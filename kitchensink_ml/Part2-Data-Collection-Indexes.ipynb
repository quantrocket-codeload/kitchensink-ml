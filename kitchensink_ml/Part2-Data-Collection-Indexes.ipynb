{
 "cells": [
  {
   "cell_type": "markdown",
   "metadata": {},
   "source": [
    "<a href=\"https://www.quantrocket.com\"><img alt=\"QuantRocket logo\" src=\"https://www.quantrocket.com/assets/img/notebook-header-logo.png\"></a><br>\n",
    "<a href=\"https://www.quantrocket.com/disclaimer/\">Disclaimer</a>"
   ]
  },
  {
   "cell_type": "markdown",
   "metadata": {},
   "source": [
    "***\n",
    "[Machine Learning and the Kitchen Sink Strategy](Introduction.ipynb) › Part 2: Data Collection (Indexes)\n",
    "***"
   ]
  },
  {
   "cell_type": "markdown",
   "metadata": {},
   "source": [
    "# Data Collection - Indexes\n",
    "\n",
    "Though most of our features will come from the Sharadar price and fundamental data, we also wish to add some additional features that reflect the broad market. Specifically, we will include features relating to the S&P 500, the VIX, and the NYSE TRIN (aka Arms Index, a breadth measure). \n",
    "\n",
    "This data will come from Interactive Brokers."
   ]
  },
  {
   "cell_type": "markdown",
   "metadata": {},
   "source": [
    "First, start IB Gateway:"
   ]
  },
  {
   "cell_type": "code",
   "execution_count": 1,
   "metadata": {},
   "outputs": [
    {
     "data": {
      "text/plain": [
       "{'ibg1': {'status': 'running'}}"
      ]
     },
     "execution_count": 1,
     "metadata": {},
     "output_type": "execute_result"
    }
   ],
   "source": [
    "from quantrocket.ibg import start_gateways\n",
    "start_gateways(wait=True)"
   ]
  },
  {
   "cell_type": "markdown",
   "metadata": {},
   "source": [
    "## Collect listings\n",
    "\n",
    "Next we collect the listings from IBKR. (For the S&P 500, we collect the SPY ETF because IBKR provides deeper history for SPY@ARCA than SPX@CBOE.)"
   ]
  },
  {
   "cell_type": "code",
   "execution_count": 2,
   "metadata": {},
   "outputs": [
    {
     "data": {
      "text/plain": [
       "{'status': 'the IBKR listing details will be collected asynchronously'}"
      ]
     },
     "execution_count": 2,
     "metadata": {},
     "output_type": "execute_result"
    }
   ],
   "source": [
    "from quantrocket.master import collect_ibkr_listings\n",
    "collect_ibkr_listings(exchanges=\"ARCA\", symbols=\"SPY\", sec_types=\"ETF\")\n",
    "collect_ibkr_listings(countries=\"US\", symbols=[\"VIX\", \"TRIN-NYSE\"], sec_types=\"IND\")"
   ]
  },
  {
   "cell_type": "markdown",
   "metadata": {},
   "source": [
    "Monitor flightlog for the completion messages:\n",
    "\n",
    "```\n",
    "quantrocket.master: INFO Collecting ARCA ETF listings from IBKR website (SPY only)\n",
    "quantrocket.master: INFO Requesting details for 1 ARCA ETF listings found on IBKR website\n",
    "quantrocket.master: INFO Saved 1 ARCA ETF listings to securities master database\n",
    "quantrocket.master: INFO Collecting US IND listings from IBKR website (VIX, TRIN-NYSE only)\n",
    "quantrocket.master: INFO Requesting details for 2 US IND listings found on IBKR website\n",
    "quantrocket.master: INFO Saved 2 US IND listings to securities master database\n",
    "```"
   ]
  },
  {
   "cell_type": "markdown",
   "metadata": {},
   "source": [
    "## Lookup Sids\n",
    "\n",
    "Look up the Sids for the various instruments:"
   ]
  },
  {
   "cell_type": "code",
   "execution_count": 3,
   "metadata": {},
   "outputs": [],
   "source": [
    "from quantrocket.master import download_master_file\n",
    "download_master_file(\"indices.csv\", exchanges=[\"CBOE\", \"NYSE\", \"ARCA\"], symbols=[\"SPY\", \"VIX\", \"TRIN-NYSE\"], sec_types=[\"IND\",\"ETF\"], vendors=\"ibkr\")"
   ]
  },
  {
   "cell_type": "code",
   "execution_count": 5,
   "metadata": {},
   "outputs": [
    {
     "data": {
      "text/html": [
       "<div>\n",
       "<style scoped>\n",
       "    .dataframe tbody tr th:only-of-type {\n",
       "        vertical-align: middle;\n",
       "    }\n",
       "\n",
       "    .dataframe tbody tr th {\n",
       "        vertical-align: top;\n",
       "    }\n",
       "\n",
       "    .dataframe thead th {\n",
       "        text-align: right;\n",
       "    }\n",
       "</style>\n",
       "<table border=\"1\" class=\"dataframe\">\n",
       "  <thead>\n",
       "    <tr style=\"text-align: right;\">\n",
       "      <th></th>\n",
       "      <th>Sid</th>\n",
       "      <th>Symbol</th>\n",
       "      <th>Name</th>\n",
       "      <th>Exchange</th>\n",
       "    </tr>\n",
       "  </thead>\n",
       "  <tbody>\n",
       "    <tr>\n",
       "      <th>0</th>\n",
       "      <td>FIBBG000BDTBL9</td>\n",
       "      <td>SPY</td>\n",
       "      <td>SPDR S&amp;P 500 ETF TRUST</td>\n",
       "      <td>ARCX</td>\n",
       "    </tr>\n",
       "    <tr>\n",
       "      <th>1</th>\n",
       "      <td>IB13455763</td>\n",
       "      <td>VIX</td>\n",
       "      <td>CBOE Volatility Index</td>\n",
       "      <td>XCBO</td>\n",
       "    </tr>\n",
       "    <tr>\n",
       "      <th>2</th>\n",
       "      <td>IB26718743</td>\n",
       "      <td>TRIN-NYSE</td>\n",
       "      <td>NYSE TRIN (OR ARMS) INDEX</td>\n",
       "      <td>XNYS</td>\n",
       "    </tr>\n",
       "  </tbody>\n",
       "</table>\n",
       "</div>"
      ],
      "text/plain": [
       "              Sid     Symbol                       Name Exchange\n",
       "0  FIBBG000BDTBL9        SPY     SPDR S&P 500 ETF TRUST     ARCX\n",
       "1      IB13455763        VIX      CBOE Volatility Index     XCBO\n",
       "2      IB26718743  TRIN-NYSE  NYSE TRIN (OR ARMS) INDEX     XNYS"
      ]
     },
     "execution_count": 5,
     "metadata": {},
     "output_type": "execute_result"
    }
   ],
   "source": [
    "import pandas as pd\n",
    "indices = pd.read_csv(\"indices.csv\")\n",
    "\n",
    "indices[[\"Sid\", \"Symbol\", \"Name\", \"Exchange\"]]"
   ]
  },
  {
   "cell_type": "markdown",
   "metadata": {},
   "source": [
    "## Collect historical data\n",
    "\n",
    "Next, we create a database for collecting 1-day bars for the indexes:"
   ]
  },
  {
   "cell_type": "code",
   "execution_count": 6,
   "metadata": {},
   "outputs": [
    {
     "data": {
      "text/plain": [
       "{'status': 'successfully created quantrocket.v2.history.market-1d.sqlite'}"
      ]
     },
     "execution_count": 6,
     "metadata": {},
     "output_type": "execute_result"
    }
   ],
   "source": [
    "from quantrocket.history import create_ibkr_db\n",
    "create_ibkr_db(\"market-1d\", \n",
    "              sids=[\n",
    "                  \"FIBBG000BDTBL9\",\n",
    "                  \"IB13455763\", \n",
    "                  \"IB26718743\",\n",
    "              ], \n",
    "              bar_size=\"1 day\")"
   ]
  },
  {
   "cell_type": "markdown",
   "metadata": {},
   "source": [
    "Then collect the data:"
   ]
  },
  {
   "cell_type": "code",
   "execution_count": 7,
   "metadata": {},
   "outputs": [
    {
     "data": {
      "text/plain": [
       "{'status': 'the historical data will be collected asynchronously'}"
      ]
     },
     "execution_count": 7,
     "metadata": {},
     "output_type": "execute_result"
    }
   ],
   "source": [
    "from quantrocket.history import collect_history\n",
    "collect_history(\"market-1d\")"
   ]
  },
  {
   "cell_type": "markdown",
   "metadata": {},
   "source": [
    "Monitor flightlog for completion:\n",
    "\n",
    "```\n",
    "quantrocket.history: INFO [market-1d] Collecting history from IBKR for 3 securities in market-1d\n",
    "quantrocket.history: INFO [market-1d] Saved 13302 total records for 3 total securities to quantrocket.v2.history.market-1d.sqlite\n",
    "```"
   ]
  },
  {
   "cell_type": "markdown",
   "metadata": {},
   "source": [
    "***\n",
    "\n",
    "## *Next Up*\n",
    "\n",
    "Part 3: [Moonshot Strategy Code](Part3-Moonshot-Strategy-Code.ipynb)"
   ]
  }
 ],
 "metadata": {
  "kernelspec": {
   "display_name": "Python 3.9",
   "language": "python",
   "name": "python3"
  },
  "language_info": {
   "codemirror_mode": {
    "name": "ipython",
    "version": 3
   },
   "file_extension": ".py",
   "mimetype": "text/x-python",
   "name": "python",
   "nbconvert_exporter": "python",
   "pygments_lexer": "ipython3",
   "version": "3.9.7"
  }
 },
 "nbformat": 4,
 "nbformat_minor": 4
}
