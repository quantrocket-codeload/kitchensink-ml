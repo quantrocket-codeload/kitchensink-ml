{
 "cells": [
  {
   "cell_type": "markdown",
   "metadata": {},
   "source": [
    "<a href=\"https://www.quantrocket.com\"><img alt=\"QuantRocket logo\" src=\"https://www.quantrocket.com/assets/img/notebook-header-logo.png\"></a><br>\n",
    "<a href=\"https://www.quantrocket.com/disclaimer/\">Disclaimer</a>"
   ]
  },
  {
   "cell_type": "markdown",
   "metadata": {},
   "source": [
    "***\n",
    "[Machine Learning and the Kitchen Sink Strategy](Introduction.ipynb) › Part 1: Data Collection (Stocks)\n",
    "***"
   ]
  },
  {
   "cell_type": "markdown",
   "metadata": {},
   "source": [
    "# Data Collection - US Stocks\n",
    "\n",
    "Our machine learning strategy will run on the universe of all US stocks.\n",
    "\n",
    "Start by collecting US stock data from Sharadar. Fundamental and price data are collected separately but can be run simultaneously. "
   ]
  },
  {
   "cell_type": "markdown",
   "metadata": {},
   "source": [
    "## Collect Sharadar fundamentals\n",
    "\n",
    "To collect the fundamentals:"
   ]
  },
  {
   "cell_type": "code",
   "execution_count": 1,
   "metadata": {},
   "outputs": [
    {
     "data": {
      "text/plain": [
       "{'status': 'the fundamental data will be collected asynchronously'}"
      ]
     },
     "execution_count": 1,
     "metadata": {},
     "output_type": "execute_result"
    }
   ],
   "source": [
    "from quantrocket.fundamental import collect_sharadar_fundamentals\n",
    "collect_sharadar_fundamentals(country=\"US\")"
   ]
  },
  {
   "cell_type": "markdown",
   "metadata": {},
   "source": [
    "This runs in the background, monitor flightlog for a completion message:\n",
    "\n",
    "```\n",
    "quantrocket.fundamental: INFO Collecting Sharadar US fundamentals\n",
    "quantrocket.fundamental: INFO Collecting updated Sharadar US securities listings\n",
    "quantrocket.fundamental: INFO Finished collecting Sharadar US fundamentals\n",
    "```"
   ]
  },
  {
   "cell_type": "markdown",
   "metadata": {},
   "source": [
    "## Collect Sharadar prices\n",
    "\n",
    "First, create a database for Sharadar stock prices:"
   ]
  },
  {
   "cell_type": "code",
   "execution_count": 2,
   "metadata": {},
   "outputs": [
    {
     "data": {
      "text/plain": [
       "{'status': 'successfully created quantrocket.v2.history.sharadar-us-stk-1d.sqlite'}"
      ]
     },
     "execution_count": 2,
     "metadata": {},
     "output_type": "execute_result"
    }
   ],
   "source": [
    "from quantrocket.history import create_sharadar_db\n",
    "create_sharadar_db(\"sharadar-us-stk-1d\", sec_type=\"STK\", country=\"US\")"
   ]
  },
  {
   "cell_type": "markdown",
   "metadata": {},
   "source": [
    "Then collect the data:"
   ]
  },
  {
   "cell_type": "code",
   "execution_count": 3,
   "metadata": {},
   "outputs": [
    {
     "data": {
      "text/plain": [
       "{'status': 'the historical data will be collected asynchronously'}"
      ]
     },
     "execution_count": 3,
     "metadata": {},
     "output_type": "execute_result"
    }
   ],
   "source": [
    "from quantrocket.history import collect_history\n",
    "collect_history(\"sharadar-us-stk-1d\")"
   ]
  },
  {
   "cell_type": "markdown",
   "metadata": {},
   "source": [
    "This runs in the background, monitor flightlog for a completion message:\n",
    "\n",
    "```\n",
    "quantrocket.history: INFO [sharadar-us-stk-1d] Collecting Sharadar US STK prices\n",
    "quantrocket.history: INFO [sharadar-us-stk-1d] Collecting updated Sharadar US securities listings\n",
    "quantrocket.history: INFO [sharadar-us-stk-1d] Finished collecting Sharadar US STK prices\n",
    "```"
   ]
  },
  {
   "cell_type": "markdown",
   "metadata": {},
   "source": [
    "***\n",
    "\n",
    "## *Next Up*\n",
    "\n",
    "Part 2: [Data Collection - Indexes](Part2-Data-Collection-Indexes.ipynb)"
   ]
  }
 ],
 "metadata": {
  "kernelspec": {
   "display_name": "Python 3.9",
   "language": "python",
   "name": "python3"
  },
  "language_info": {
   "codemirror_mode": {
    "name": "ipython",
    "version": 3
   },
   "file_extension": ".py",
   "mimetype": "text/x-python",
   "name": "python",
   "nbconvert_exporter": "python",
   "pygments_lexer": "ipython3",
   "version": "3.9.7"
  }
 },
 "nbformat": 4,
 "nbformat_minor": 4
}
