{
 "cells": [
  {
   "cell_type": "markdown",
   "metadata": {},
   "source": [
    "<a href=\"https://www.quantrocket.com\"><img alt=\"QuantRocket logo\" src=\"https://www.quantrocket.com/assets/img/notebook-header-logo.png\"></a><br>\n",
    "<a href=\"https://www.quantrocket.com/disclaimer/\">Disclaimer</a>"
   ]
  },
  {
   "cell_type": "markdown",
   "metadata": {},
   "source": [
    "# Machine Learning and the Kitchen Sink \n",
    "\n",
    "This tutorial demonstrates how to run a machine learning strategy in Moonshot using a wide variety of features, including fundamentals, technical indicators, returns, price levels, volume spikes, liquidity, volatility, market breadth, and more. We throw \"everything and the kitchen sink\" at the model to see what it can do. \n",
    "\n",
    "The tutorial utilizes price and fundamental data from Sharadar for US stocks, as well as index data from Interactive Brokers. \n",
    "\n",
    "We train the model with scikit-learns's Stochastic Gradient Descent model and also experiment with dimensionality reduction using PCA (principal component analysis).\n",
    "\n",
    "> Due to the large number of features and large number of stocks, this is an advanced tutorial. For a simpler introduction to machine learning in QuantRocket, see the sample code in the [usage guide](https://www.quantrocket.com/docs/#ml). At least 16 GB of memory is recommended for this tutorial. "
   ]
  },
  {
   "cell_type": "markdown",
   "metadata": {},
   "source": [
    "* Part 1: [Data Collection for US Stocks](Part1-Data-Collection-US-Stocks.ipynb)\n",
    "* Part 2: [Data Collection for Market Indexes](Part2-Data-Collection-Indexes.ipynb)\n",
    "* Part 3: [Moonshot Strategy Code](Part3-Moonshot-Strategy-Code.ipynb)\n",
    "* Part 4: [Walk-forward Optimization](Part4-Walkforward-Optimization.ipynb)\n",
    "* Part 5: [Dimensionality Reduction with PCA](Part5-Dimensionality-Reduction.ipynb)\n",
    "* Part 6: [Analysis of Model Predictions](Part6-Predictions-Analysis.ipynb)"
   ]
  }
 ],
 "metadata": {
  "kernelspec": {
   "display_name": "Python 3.9",
   "language": "python",
   "name": "python3"
  },
  "language_info": {
   "codemirror_mode": {
    "name": "ipython",
    "version": 3
   },
   "file_extension": ".py",
   "mimetype": "text/x-python",
   "name": "python",
   "nbconvert_exporter": "python",
   "pygments_lexer": "ipython3",
   "version": "3.9.7"
  }
 },
 "nbformat": 4,
 "nbformat_minor": 4
}
