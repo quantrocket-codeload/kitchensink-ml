{
 "cells": [
  {
   "cell_type": "markdown",
   "metadata": {},
   "source": [
    "<a href=\"https://www.quantrocket.com\"><img alt=\"QuantRocket logo\" src=\"https://www.quantrocket.com/assets/img/notebook-header-logo.png\"></a><br>\n",
    "<a href=\"https://www.quantrocket.com/disclaimer/\">Disclaimer</a>"
   ]
  },
  {
   "cell_type": "markdown",
   "metadata": {},
   "source": [
    "***\n",
    "[Machine Learning and the Kitchen Sink Strategy](Introduction.ipynb) › Part 6: Analysis of Model Predictions\n",
    "***"
   ]
  },
  {
   "cell_type": "markdown",
   "metadata": {},
   "source": [
    "# Analysis of Model Predictions\n",
    "\n",
    "A `MoonshotML` strategy encompasses both the model's training and predictions and what we choose to do with those predictions in our trading logic. That's a lot to worry about in the initial research stage. To separate concerns, we can retrieve the model predictions from our backtest results and analyze the predictions in a notebook, which might illuminate how we want to use the predictions."
   ]
  },
  {
   "cell_type": "markdown",
   "metadata": {},
   "source": [
    "## Retrieve predictions and prices\n",
    "\n",
    "\n",
    "In `predictions_to_signals`, we save the predictions, closing prices, and volume DataFrames to the backtest results: \n",
    "\n",
    "```python\n",
    "...\n",
    "# Save the predictions and prices so we can analyze them\n",
    "self.save_to_results(\"Prediction\", predictions)\n",
    "self.save_to_results(\"Close\", closes)\n",
    "self.save_to_results(\"Volume\", volumes)\n",
    "...\n",
    "```\n",
    "\n",
    "To get these fields back, we must re-run the walk-forward optimization with `details=True`:"
   ]
  },
  {
   "cell_type": "code",
   "execution_count": 1,
   "metadata": {},
   "outputs": [],
   "source": [
    "from quantrocket.moonshot import ml_walkforward\n",
    "ml_walkforward(\"kitchensink-ml\",\n",
    "                start_date=\"2006-12-31\",\n",
    "                end_date=\"2018-12-31\",\n",
    "                train=\"Y\",\n",
    "                details=True,\n",
    "                model_filepath=\"pca_sgd_model.joblib\",\n",
    "                progress=True,\n",
    "                filepath_or_buffer=\"kitchensink_ml_details*\")"
   ]
  },
  {
   "cell_type": "markdown",
   "metadata": {},
   "source": [
    "## Load predictions and prices\n",
    "\n",
    "Using `details=True` on a large universe results in a large backtest results CSV. To make it easier to load, we use `csvgrep` to isolate particular fields before we load anything into memory:"
   ]
  },
  {
   "cell_type": "code",
   "execution_count": 2,
   "metadata": {},
   "outputs": [],
   "source": [
    "!csvgrep -c Field -m Prediction kitchensink_ml_details_results.csv > kitchensink_ml_details_results_Prediction.csv\n",
    "!csvgrep -c Field -m Close kitchensink_ml_details_results.csv > kitchensink_ml_details_results_Close.csv\n",
    "!csvgrep -c Field -m Volume kitchensink_ml_details_results.csv > kitchensink_ml_details_results_Volume.csv"
   ]
  },
  {
   "cell_type": "markdown",
   "metadata": {},
   "source": [
    "Then we load only these fields:"
   ]
  },
  {
   "cell_type": "code",
   "execution_count": 3,
   "metadata": {},
   "outputs": [],
   "source": [
    "import pandas as pd\n",
    "predictions = pd.read_csv(\"kitchensink_ml_details_results_Prediction.csv\", parse_dates=[\"Date\"], index_col=[\"Field\",\"Date\"]).loc[\"Prediction\"]\n",
    "closes = pd.read_csv(\"kitchensink_ml_details_results_Close.csv\", parse_dates=[\"Date\"], index_col=[\"Field\",\"Date\"]).loc[\"Close\"]\n",
    "volumes = pd.read_csv(\"kitchensink_ml_details_results_Volume.csv\", parse_dates=[\"Date\"], index_col=[\"Field\",\"Date\"]).loc[\"Volume\"]"
   ]
  },
  {
   "cell_type": "markdown",
   "metadata": {},
   "source": [
    "Let's split our predictions into 5 bins and compare one-week forward returns for each bin:"
   ]
  },
  {
   "cell_type": "code",
   "execution_count": 4,
   "metadata": {},
   "outputs": [
    {
     "data": {
      "text/plain": [
       "<matplotlib.axes._subplots.AxesSubplot at 0x7f15d0e8f438>"
      ]
     },
     "execution_count": 4,
     "metadata": {},
     "output_type": "execute_result"
    },
    {
     "data": {
      "image/png": "[encoded data removed]",
      "text/plain": [
       "<Figure size 1152x432 with 1 Axes>"
      ]
     },
     "metadata": {},
     "output_type": "display_data"
    }
   ],
   "source": [
    "# Calculate one week returns\n",
    "one_week_returns = (closes - closes.shift(5)) / closes.shift(5)\n",
    "\n",
    "# Shift one week returns back to time of prediction, and stack returns and predictions \n",
    "one_week_forward_returns_stacked = one_week_returns.shift(-5).stack(dropna=False)\n",
    "predictions_stacked = predictions.stack(dropna=False)\n",
    "\n",
    "# Bin predictions into 5 equal-size bins\n",
    "prediction_bins = pd.qcut(predictions_stacked, 5)\n",
    "\n",
    "# Plot returns by bin\n",
    "one_week_forward_returns_stacked.groupby(prediction_bins).mean().plot(kind=\"bar\")"
   ]
  },
  {
   "cell_type": "markdown",
   "metadata": {},
   "source": [
    "The stocks with the higest predicted return indeed have the highest forward return. The stocks with the lowest predicted return have a lower but still positive forward return. This suggests it may be possible to dig deeper into the strategy and figure out why, despite this forward return profile, the backtest performance is poor."
   ]
  },
  {
   "cell_type": "markdown",
   "metadata": {},
   "source": [
    "***\n",
    "\n",
    "[Back to Introduction](Introduction.ipynb)"
   ]
  }
 ],
 "metadata": {
  "kernelspec": {
   "display_name": "Python 3.9",
   "language": "python",
   "name": "python3"
  },
  "language_info": {
   "codemirror_mode": {
    "name": "ipython",
    "version": 3
   },
   "file_extension": ".py",
   "mimetype": "text/x-python",
   "name": "python",
   "nbconvert_exporter": "python",
   "pygments_lexer": "ipython3",
   "version": "3.9.7"
  }
 },
 "nbformat": 4,
 "nbformat_minor": 4
}
